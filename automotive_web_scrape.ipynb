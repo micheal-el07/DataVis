{
  "nbformat": 4,
  "nbformat_minor": 0,
  "metadata": {
    "colab": {
      "provenance": [],
      "authorship_tag": "ABX9TyM8A94mVTnzp/J53x0MDERa",
      "include_colab_link": true
    },
    "kernelspec": {
      "name": "python3",
      "display_name": "Python 3"
    },
    "language_info": {
      "name": "python"
    }
  },
  "cells": [
    {
      "cell_type": "markdown",
      "metadata": {
        "id": "view-in-github",
        "colab_type": "text"
      },
      "source": [
        "<a href=\"https://colab.research.google.com/github/micheal-el07/DataVis/blob/main/automotive_web_scrape.ipynb\" target=\"_parent\"><img src=\"https://colab.research.google.com/assets/colab-badge.svg\" alt=\"Open In Colab\"/></a>"
      ]
    },
    {
      "cell_type": "code",
      "execution_count": 11,
      "metadata": {
        "id": "_6PBJhssGCE7"
      },
      "outputs": [],
      "source": [
        "import requests\n",
        "from bs4 import BeautifulSoup as bs\n",
        "\n",
        "url = \"http://www.maa.org.my/statistics.html\"\n",
        "res = requests.get(url)\n",
        "htmlData = res.content\n",
        "parsedData = bs(htmlData, \"html.parser\")\n",
        "#print(parsedData.prettify())\n"
      ]
    },
    {
      "cell_type": "code",
      "source": [
        "tab = list(parsedData.findAll('table'))"
      ],
      "metadata": {
        "id": "hqhuYGvuK1DJ"
      },
      "execution_count": 24,
      "outputs": []
    },
    {
      "cell_type": "code",
      "source": [
        "import pandas as pd\n"
      ],
      "metadata": {
        "id": "rSO_vwsuL3ZP"
      },
      "execution_count": 8,
      "outputs": []
    },
    {
      "cell_type": "code",
      "source": [
        "b = tab[0]"
      ],
      "metadata": {
        "id": "A1N2sgduLk-R"
      },
      "execution_count": 28,
      "outputs": []
    },
    {
      "cell_type": "code",
      "source": [
        "a.findAll(\"tr\")"
      ],
      "metadata": {
        "colab": {
          "base_uri": "https://localhost:8080/"
        },
        "id": "LX-FwqFOMOh-",
        "outputId": "e966d3aa-c5ea-4a20-9150-e4a620216525"
      },
      "execution_count": 19,
      "outputs": [
        {
          "output_type": "execute_result",
          "data": {
            "text/plain": [
              "[<tr>\n",
              " <th class=\"amount\"><div align=\"center\"><font size=\"3\">Year</font></div></th>\n",
              " <th class=\"amount\"><div align=\"center\"><font size=\"3\">Passenger Cars</font></div></th>\n",
              " <th class=\"amount\"><div align=\"center\"><font size=\"3\">Commercial Vehicles</font></div></th>\n",
              " <th class=\"amount\"><div align=\"center\"><font size=\"3\">Total Vehicles</font></div></th>\n",
              " </tr>,\n",
              " <tr class=\"alert\" role=\"alert\">\n",
              " <td><div align=\"center\"><font size=\"4\">2010</font></div></td>\n",
              " <td><div align=\"center\"><font size=\"4\">543,594</font></div></td>\n",
              " <td><div align=\"center\"><font size=\"4\">61,562</font></div></td>\n",
              " <td><div align=\"center\"><font size=\"4\">605,156</font></div></td>\n",
              " </tr>,\n",
              " <tr class=\"alert\" role=\"alert\">\n",
              " <td><div align=\"center\"><font size=\"4\">2011</font></div></td>\n",
              " <td><div align=\"center\"><font size=\"4\">535,113</font></div></td>\n",
              " <td><div align=\"center\"><font size=\"4\">65,010</font></div></td>\n",
              " <td><div align=\"center\"><font size=\"4\">600,123</font></div></td>\n",
              " </tr>,\n",
              " <tr class=\"alert\" role=\"alert\">\n",
              " <td><div align=\"center\"><font size=\"4\">2012</font></div></td>\n",
              " <td><div align=\"center\"><font size=\"4\">552,158</font></div></td>\n",
              " <td><div align=\"center\"><font size=\"4\">75,575</font></div></td>\n",
              " <td><div align=\"center\"><font size=\"4\">627,733</font></div></td>\n",
              " </tr>,\n",
              " <tr class=\"alert\" role=\"alert\">\n",
              " <td><div align=\"center\"><font size=\"4\">2013</font></div></td>\n",
              " <td><div align=\"center\"><font size=\"4\">576,640</font></div></td>\n",
              " <td><div align=\"center\"><font size=\"4\">79,104</font></div></td>\n",
              " <td><div align=\"center\"><font size=\"4\">655,744</font></div></td>\n",
              " </tr>,\n",
              " <tr class=\"alert\" role=\"alert\">\n",
              " <td><div align=\"center\"><font size=\"4\">2014</font></div></td>\n",
              " <td><div align=\"center\"><font size=\"4\">588,348</font></div></td>\n",
              " <td><div align=\"center\"><font size=\"4\">78,139</font></div></td>\n",
              " <td><div align=\"center\"><font size=\"4\">666,487</font></div></td>\n",
              " </tr>,\n",
              " <tr class=\"alert\" role=\"alert\">\n",
              " <td><div align=\"center\"><font size=\"4\">2015</font></div></td>\n",
              " <td><div align=\"center\"><font size=\"4\">591,275</font></div></td>\n",
              " <td><div align=\"center\"><font size=\"4\">75,402</font></div></td>\n",
              " <td><div align=\"center\"><font size=\"4\">666,677</font></div></td>\n",
              " </tr>,\n",
              " <tr class=\"alert\" role=\"alert\">\n",
              " <td><div align=\"center\"><font size=\"4\">2016</font></div></td>\n",
              " <td><div align=\"center\"><font size=\"4\">514,594</font></div></td>\n",
              " <td><div align=\"center\"><font size=\"4\">65,491</font></div></td>\n",
              " <td><div align=\"center\"><font size=\"4\">580,085</font></div></td>\n",
              " </tr>,\n",
              " <tr class=\"alert\" role=\"alert\">\n",
              " <td><div align=\"center\"><font size=\"4\">2017</font></div></td>\n",
              " <td><div align=\"center\"><font size=\"4\">514,675</font></div></td>\n",
              " <td><div align=\"center\"><font size=\"4\">61,950</font></div></td>\n",
              " <td><div align=\"center\"><font size=\"4\">576,625</font></div></td>\n",
              " </tr>,\n",
              " <tr class=\"alert\" role=\"alert\">\n",
              " <td><div align=\"center\"><font size=\"4\">2018</font></div></td>\n",
              " <td><div align=\"center\"><font size=\"4\">533,202</font></div></td>\n",
              " <td><div align=\"center\"><font size=\"4\">65,512</font></div></td>\n",
              " <td><div align=\"center\"><font size=\"4\">598,714</font></div></td>\n",
              " </tr>,\n",
              " <tr class=\"alert\" role=\"alert\">\n",
              " <td><div align=\"center\"><font size=\"4\">2019</font></div></td>\n",
              " <td><div align=\"center\"><font size=\"4\">550,179</font></div></td>\n",
              " <td><div align=\"center\"><font size=\"4\">54,108</font></div></td>\n",
              " <td><div align=\"center\"><font size=\"4\">604,287</font></div></td>\n",
              " </tr>,\n",
              " <tr class=\"alert\" role=\"alert\">\n",
              " <td><div align=\"center\"><font size=\"4\">2020</font></div></td>\n",
              " <td><div align=\"center\"><font size=\"4\">480,971</font></div></td>\n",
              " <td><div align=\"center\"><font size=\"4\">48,543</font></div></td>\n",
              " <td><div align=\"center\"><font size=\"4\">529,514</font></div></td>\n",
              " </tr>,\n",
              " <tr class=\"alert\" role=\"alert\">\n",
              " <td><div align=\"center\"><font size=\"4\">2021</font></div></td>\n",
              " <td><div align=\"center\"><font size=\"4\">452,663</font></div></td>\n",
              " <td><div align=\"center\"><font size=\"4\">56,248</font></div></td>\n",
              " <td><div align=\"center\"><font size=\"4\">508,911</font></div></td>\n",
              " </tr>,\n",
              " <tr class=\"alert\" role=\"alert\">\n",
              " <td><div align=\"center\"><font size=\"4\">2022</font></div></td>\n",
              " <td><div align=\"center\"><font size=\"4\">641,773</font></div></td>\n",
              " <td><div align=\"center\"><font size=\"4\">78,885</font></div></td>\n",
              " <td><div align=\"center\"><font size=\"4\">720,658</font></div></td>\n",
              " </tr>,\n",
              " <tr class=\"alert\" role=\"alert\">\n",
              " <td><div align=\"center\"><font size=\"4\">YTD-JUNE 2023</font></div></td>\n",
              " <td><div align=\"center\"><font size=\"4\">326,661</font></div></td>\n",
              " <td><div align=\"center\"><font size=\"4\">39,376</font></div></td>\n",
              " <td><div align=\"center\"><font size=\"4\">366,037</font></div></td>\n",
              " </tr>,\n",
              " <tr>\n",
              " <td class=\"media-body\" colspan=\"5\">\n",
              " <h4>Note</h4>\n",
              " <ul>\n",
              " <li><h5>Passenger Vehicle industry reclassified in January 2007 and includes all passenger carrying vehicles. .e. Passenger Cars, 4WD/SUV, Window Van and MPV models.</h5></li>\n",
              " <li><h5>Commercial Vehicles also reclassified on 1 January 2007 and includes Trucks, Prime Movers, Pick-up, Panel Vans, Bus &amp; Others.</h5></li></ul>\n",
              " </td>\n",
              " </tr>]"
            ]
          },
          "metadata": {},
          "execution_count": 19
        }
      ]
    },
    {
      "cell_type": "code",
      "source": [
        "df = pd.read_html(parsedData)"
      ],
      "metadata": {
        "colab": {
          "base_uri": "https://localhost:8080/",
          "height": 390
        },
        "id": "RECf_oXYLmt5",
        "outputId": "b988d28e-7cc4-44e0-e555-9bd2134f472c"
      },
      "execution_count": 30,
      "outputs": [
        {
          "output_type": "error",
          "ename": "TypeError",
          "evalue": "ignored",
          "traceback": [
            "\u001b[0;31m---------------------------------------------------------------------------\u001b[0m",
            "\u001b[0;31mTypeError\u001b[0m                                 Traceback (most recent call last)",
            "\u001b[0;32m<ipython-input-30-7254da746c97>\u001b[0m in \u001b[0;36m<cell line: 1>\u001b[0;34m()\u001b[0m\n\u001b[0;32m----> 1\u001b[0;31m \u001b[0mdf\u001b[0m \u001b[0;34m=\u001b[0m \u001b[0mpd\u001b[0m\u001b[0;34m.\u001b[0m\u001b[0mread_html\u001b[0m\u001b[0;34m(\u001b[0m\u001b[0mparsedData\u001b[0m\u001b[0;34m)\u001b[0m\u001b[0;34m\u001b[0m\u001b[0;34m\u001b[0m\u001b[0m\n\u001b[0m",
            "\u001b[0;32m/usr/local/lib/python3.10/dist-packages/pandas/util/_decorators.py\u001b[0m in \u001b[0;36mwrapper\u001b[0;34m(*args, **kwargs)\u001b[0m\n\u001b[1;32m    329\u001b[0m                     \u001b[0mstacklevel\u001b[0m\u001b[0;34m=\u001b[0m\u001b[0mfind_stack_level\u001b[0m\u001b[0;34m(\u001b[0m\u001b[0;34m)\u001b[0m\u001b[0;34m,\u001b[0m\u001b[0;34m\u001b[0m\u001b[0;34m\u001b[0m\u001b[0m\n\u001b[1;32m    330\u001b[0m                 )\n\u001b[0;32m--> 331\u001b[0;31m             \u001b[0;32mreturn\u001b[0m \u001b[0mfunc\u001b[0m\u001b[0;34m(\u001b[0m\u001b[0;34m*\u001b[0m\u001b[0margs\u001b[0m\u001b[0;34m,\u001b[0m \u001b[0;34m**\u001b[0m\u001b[0mkwargs\u001b[0m\u001b[0;34m)\u001b[0m\u001b[0;34m\u001b[0m\u001b[0;34m\u001b[0m\u001b[0m\n\u001b[0m\u001b[1;32m    332\u001b[0m \u001b[0;34m\u001b[0m\u001b[0m\n\u001b[1;32m    333\u001b[0m         \u001b[0;31m# error: \"Callable[[VarArg(Any), KwArg(Any)], Any]\" has no\u001b[0m\u001b[0;34m\u001b[0m\u001b[0;34m\u001b[0m\u001b[0m\n",
            "\u001b[0;32m/usr/local/lib/python3.10/dist-packages/pandas/io/html.py\u001b[0m in \u001b[0;36mread_html\u001b[0;34m(io, match, flavor, header, index_col, skiprows, attrs, parse_dates, thousands, encoding, decimal, converters, na_values, keep_default_na, displayed_only, extract_links)\u001b[0m\n\u001b[1;32m   1203\u001b[0m     \u001b[0mio\u001b[0m \u001b[0;34m=\u001b[0m \u001b[0mstringify_path\u001b[0m\u001b[0;34m(\u001b[0m\u001b[0mio\u001b[0m\u001b[0;34m)\u001b[0m\u001b[0;34m\u001b[0m\u001b[0;34m\u001b[0m\u001b[0m\n\u001b[1;32m   1204\u001b[0m \u001b[0;34m\u001b[0m\u001b[0m\n\u001b[0;32m-> 1205\u001b[0;31m     return _parse(\n\u001b[0m\u001b[1;32m   1206\u001b[0m         \u001b[0mflavor\u001b[0m\u001b[0;34m=\u001b[0m\u001b[0mflavor\u001b[0m\u001b[0;34m,\u001b[0m\u001b[0;34m\u001b[0m\u001b[0;34m\u001b[0m\u001b[0m\n\u001b[1;32m   1207\u001b[0m         \u001b[0mio\u001b[0m\u001b[0;34m=\u001b[0m\u001b[0mio\u001b[0m\u001b[0;34m,\u001b[0m\u001b[0;34m\u001b[0m\u001b[0;34m\u001b[0m\u001b[0m\n",
            "\u001b[0;32m/usr/local/lib/python3.10/dist-packages/pandas/io/html.py\u001b[0m in \u001b[0;36m_parse\u001b[0;34m(flavor, io, match, attrs, encoding, displayed_only, extract_links, **kwargs)\u001b[0m\n\u001b[1;32m    984\u001b[0m \u001b[0;34m\u001b[0m\u001b[0m\n\u001b[1;32m    985\u001b[0m         \u001b[0;32mtry\u001b[0m\u001b[0;34m:\u001b[0m\u001b[0;34m\u001b[0m\u001b[0;34m\u001b[0m\u001b[0m\n\u001b[0;32m--> 986\u001b[0;31m             \u001b[0mtables\u001b[0m \u001b[0;34m=\u001b[0m \u001b[0mp\u001b[0m\u001b[0;34m.\u001b[0m\u001b[0mparse_tables\u001b[0m\u001b[0;34m(\u001b[0m\u001b[0;34m)\u001b[0m\u001b[0;34m\u001b[0m\u001b[0;34m\u001b[0m\u001b[0m\n\u001b[0m\u001b[1;32m    987\u001b[0m         \u001b[0;32mexcept\u001b[0m \u001b[0mValueError\u001b[0m \u001b[0;32mas\u001b[0m \u001b[0mcaught\u001b[0m\u001b[0;34m:\u001b[0m\u001b[0;34m\u001b[0m\u001b[0;34m\u001b[0m\u001b[0m\n\u001b[1;32m    988\u001b[0m             \u001b[0;31m# if `io` is an io-like object, check if it's seekable\u001b[0m\u001b[0;34m\u001b[0m\u001b[0;34m\u001b[0m\u001b[0m\n",
            "\u001b[0;32m/usr/local/lib/python3.10/dist-packages/pandas/io/html.py\u001b[0m in \u001b[0;36mparse_tables\u001b[0;34m(self)\u001b[0m\n\u001b[1;32m    260\u001b[0m         \u001b[0mlist\u001b[0m \u001b[0mof\u001b[0m \u001b[0mparsed\u001b[0m \u001b[0;34m(\u001b[0m\u001b[0mheader\u001b[0m\u001b[0;34m,\u001b[0m \u001b[0mbody\u001b[0m\u001b[0;34m,\u001b[0m \u001b[0mfooter\u001b[0m\u001b[0;34m)\u001b[0m \u001b[0mtuples\u001b[0m \u001b[0;32mfrom\u001b[0m \u001b[0mtables\u001b[0m\u001b[0;34m.\u001b[0m\u001b[0;34m\u001b[0m\u001b[0;34m\u001b[0m\u001b[0m\n\u001b[1;32m    261\u001b[0m         \"\"\"\n\u001b[0;32m--> 262\u001b[0;31m         \u001b[0mtables\u001b[0m \u001b[0;34m=\u001b[0m \u001b[0mself\u001b[0m\u001b[0;34m.\u001b[0m\u001b[0m_parse_tables\u001b[0m\u001b[0;34m(\u001b[0m\u001b[0mself\u001b[0m\u001b[0;34m.\u001b[0m\u001b[0m_build_doc\u001b[0m\u001b[0;34m(\u001b[0m\u001b[0;34m)\u001b[0m\u001b[0;34m,\u001b[0m \u001b[0mself\u001b[0m\u001b[0;34m.\u001b[0m\u001b[0mmatch\u001b[0m\u001b[0;34m,\u001b[0m \u001b[0mself\u001b[0m\u001b[0;34m.\u001b[0m\u001b[0mattrs\u001b[0m\u001b[0;34m)\u001b[0m\u001b[0;34m\u001b[0m\u001b[0;34m\u001b[0m\u001b[0m\n\u001b[0m\u001b[1;32m    263\u001b[0m         \u001b[0;32mreturn\u001b[0m \u001b[0;34m(\u001b[0m\u001b[0mself\u001b[0m\u001b[0;34m.\u001b[0m\u001b[0m_parse_thead_tbody_tfoot\u001b[0m\u001b[0;34m(\u001b[0m\u001b[0mtable\u001b[0m\u001b[0;34m)\u001b[0m \u001b[0;32mfor\u001b[0m \u001b[0mtable\u001b[0m \u001b[0;32min\u001b[0m \u001b[0mtables\u001b[0m\u001b[0;34m)\u001b[0m\u001b[0;34m\u001b[0m\u001b[0;34m\u001b[0m\u001b[0m\n\u001b[1;32m    264\u001b[0m \u001b[0;34m\u001b[0m\u001b[0m\n",
            "\u001b[0;32m/usr/local/lib/python3.10/dist-packages/pandas/io/html.py\u001b[0m in \u001b[0;36m_build_doc\u001b[0;34m(self)\u001b[0m\n\u001b[1;32m    804\u001b[0m             \u001b[0;32melse\u001b[0m\u001b[0;34m:\u001b[0m\u001b[0;34m\u001b[0m\u001b[0;34m\u001b[0m\u001b[0m\n\u001b[1;32m    805\u001b[0m                 \u001b[0;31m# try to parse the input in the simplest way\u001b[0m\u001b[0;34m\u001b[0m\u001b[0;34m\u001b[0m\u001b[0m\n\u001b[0;32m--> 806\u001b[0;31m                 \u001b[0mr\u001b[0m \u001b[0;34m=\u001b[0m \u001b[0mparse\u001b[0m\u001b[0;34m(\u001b[0m\u001b[0mself\u001b[0m\u001b[0;34m.\u001b[0m\u001b[0mio\u001b[0m\u001b[0;34m,\u001b[0m \u001b[0mparser\u001b[0m\u001b[0;34m=\u001b[0m\u001b[0mparser\u001b[0m\u001b[0;34m)\u001b[0m\u001b[0;34m\u001b[0m\u001b[0;34m\u001b[0m\u001b[0m\n\u001b[0m\u001b[1;32m    807\u001b[0m             \u001b[0;32mtry\u001b[0m\u001b[0;34m:\u001b[0m\u001b[0;34m\u001b[0m\u001b[0;34m\u001b[0m\u001b[0m\n\u001b[1;32m    808\u001b[0m                 \u001b[0mr\u001b[0m \u001b[0;34m=\u001b[0m \u001b[0mr\u001b[0m\u001b[0;34m.\u001b[0m\u001b[0mgetroot\u001b[0m\u001b[0;34m(\u001b[0m\u001b[0;34m)\u001b[0m\u001b[0;34m\u001b[0m\u001b[0;34m\u001b[0m\u001b[0m\n",
            "\u001b[0;32m/usr/local/lib/python3.10/dist-packages/lxml/html/__init__.py\u001b[0m in \u001b[0;36mparse\u001b[0;34m(filename_or_url, parser, base_url, **kw)\u001b[0m\n\u001b[1;32m    935\u001b[0m     \u001b[0;32mif\u001b[0m \u001b[0mparser\u001b[0m \u001b[0;32mis\u001b[0m \u001b[0;32mNone\u001b[0m\u001b[0;34m:\u001b[0m\u001b[0;34m\u001b[0m\u001b[0;34m\u001b[0m\u001b[0m\n\u001b[1;32m    936\u001b[0m         \u001b[0mparser\u001b[0m \u001b[0;34m=\u001b[0m \u001b[0mhtml_parser\u001b[0m\u001b[0;34m\u001b[0m\u001b[0;34m\u001b[0m\u001b[0m\n\u001b[0;32m--> 937\u001b[0;31m     \u001b[0;32mreturn\u001b[0m \u001b[0metree\u001b[0m\u001b[0;34m.\u001b[0m\u001b[0mparse\u001b[0m\u001b[0;34m(\u001b[0m\u001b[0mfilename_or_url\u001b[0m\u001b[0;34m,\u001b[0m \u001b[0mparser\u001b[0m\u001b[0;34m,\u001b[0m \u001b[0mbase_url\u001b[0m\u001b[0;34m=\u001b[0m\u001b[0mbase_url\u001b[0m\u001b[0;34m,\u001b[0m \u001b[0;34m**\u001b[0m\u001b[0mkw\u001b[0m\u001b[0;34m)\u001b[0m\u001b[0;34m\u001b[0m\u001b[0;34m\u001b[0m\u001b[0m\n\u001b[0m\u001b[1;32m    938\u001b[0m \u001b[0;34m\u001b[0m\u001b[0m\n\u001b[1;32m    939\u001b[0m \u001b[0;34m\u001b[0m\u001b[0m\n",
            "\u001b[0;32msrc/lxml/etree.pyx\u001b[0m in \u001b[0;36mlxml.etree.parse\u001b[0;34m()\u001b[0m\n",
            "\u001b[0;32msrc/lxml/parser.pxi\u001b[0m in \u001b[0;36mlxml.etree._parseDocument\u001b[0;34m()\u001b[0m\n",
            "\u001b[0;31mTypeError\u001b[0m: 'NoneType' object is not callable"
          ]
        }
      ]
    },
    {
      "cell_type": "code",
      "source": [],
      "metadata": {
        "id": "OYQbf_nyMBSI"
      },
      "execution_count": null,
      "outputs": []
    }
  ]
}